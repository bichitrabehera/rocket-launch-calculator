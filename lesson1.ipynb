{
 "cells": [
  {
   "cell_type": "code",
   "execution_count": 4,
   "id": "c7dc200c",
   "metadata": {},
   "outputs": [
    {
     "name": "stdout",
     "output_type": "stream",
     "text": [
      "HEllo nigga\n"
     ]
    }
   ],
   "source": [
    "print(\"HEllo nigga\")"
   ]
  },
  {
   "cell_type": "code",
   "execution_count": 6,
   "id": "6461d6e3",
   "metadata": {},
   "outputs": [
    {
     "name": "stdout",
     "output_type": "stream",
     "text": [
      "15\n"
     ]
    }
   ],
   "source": [
    "fav_num = 15;\n",
    "print(fav_num);"
   ]
  },
  {
   "cell_type": "code",
   "execution_count": 7,
   "id": "941cfd87",
   "metadata": {},
   "outputs": [
    {
     "name": "stdout",
     "output_type": "stream",
     "text": [
      "[23, 34, 45, 45]\n"
     ]
    }
   ],
   "source": [
    "dict_list = [23,34,45,45]\n",
    "print(dict_list);"
   ]
  },
  {
   "cell_type": "code",
   "execution_count": 1,
   "id": "61f4afb9",
   "metadata": {},
   "outputs": [
    {
     "name": "stderr",
     "output_type": "stream",
     "text": [
      "2025-04-13 09:00:50.790 WARNING streamlit.runtime.scriptrunner_utils.script_run_context: Thread 'MainThread': missing ScriptRunContext! This warning can be ignored when running in bare mode.\n",
      "2025-04-13 09:01:05.177 \n",
      "  \u001b[33m\u001b[1mWarning:\u001b[0m to view this Streamlit app on a browser, run it with the following\n",
      "  command:\n",
      "\n",
      "    streamlit run C:\\Users\\bichitra\\AppData\\Roaming\\Python\\Python313\\site-packages\\ipykernel_launcher.py [ARGUMENTS]\n",
      "2025-04-13 09:01:05.180 Thread 'MainThread': missing ScriptRunContext! This warning can be ignored when running in bare mode.\n",
      "2025-04-13 09:01:05.187 Thread 'MainThread': missing ScriptRunContext! This warning can be ignored when running in bare mode.\n",
      "2025-04-13 09:01:05.190 Thread 'MainThread': missing ScriptRunContext! This warning can be ignored when running in bare mode.\n",
      "2025-04-13 09:01:05.192 Thread 'MainThread': missing ScriptRunContext! This warning can be ignored when running in bare mode.\n",
      "2025-04-13 09:01:05.196 Thread 'MainThread': missing ScriptRunContext! This warning can be ignored when running in bare mode.\n",
      "2025-04-13 09:01:05.212 Session state does not function when running a script without `streamlit run`\n",
      "2025-04-13 09:01:05.217 Thread 'MainThread': missing ScriptRunContext! This warning can be ignored when running in bare mode.\n",
      "2025-04-13 09:01:05.219 Thread 'MainThread': missing ScriptRunContext! This warning can be ignored when running in bare mode.\n",
      "2025-04-13 09:01:05.222 Thread 'MainThread': missing ScriptRunContext! This warning can be ignored when running in bare mode.\n",
      "2025-04-13 09:01:05.224 Thread 'MainThread': missing ScriptRunContext! This warning can be ignored when running in bare mode.\n",
      "2025-04-13 09:01:05.226 Thread 'MainThread': missing ScriptRunContext! This warning can be ignored when running in bare mode.\n",
      "2025-04-13 09:01:05.228 Thread 'MainThread': missing ScriptRunContext! This warning can be ignored when running in bare mode.\n",
      "2025-04-13 09:01:05.232 Thread 'MainThread': missing ScriptRunContext! This warning can be ignored when running in bare mode.\n",
      "2025-04-13 09:01:05.234 Thread 'MainThread': missing ScriptRunContext! This warning can be ignored when running in bare mode.\n",
      "2025-04-13 09:01:05.237 Thread 'MainThread': missing ScriptRunContext! This warning can be ignored when running in bare mode.\n",
      "2025-04-13 09:01:05.239 Thread 'MainThread': missing ScriptRunContext! This warning can be ignored when running in bare mode.\n",
      "2025-04-13 09:01:05.321 Thread 'MainThread': missing ScriptRunContext! This warning can be ignored when running in bare mode.\n",
      "2025-04-13 09:01:05.334 Thread 'MainThread': missing ScriptRunContext! This warning can be ignored when running in bare mode.\n",
      "2025-04-13 09:01:05.360 Thread 'MainThread': missing ScriptRunContext! This warning can be ignored when running in bare mode.\n",
      "2025-04-13 09:01:05.364 Thread 'MainThread': missing ScriptRunContext! This warning can be ignored when running in bare mode.\n",
      "2025-04-13 09:01:05.436 Thread 'MainThread': missing ScriptRunContext! This warning can be ignored when running in bare mode.\n",
      "2025-04-13 09:01:05.441 Thread 'MainThread': missing ScriptRunContext! This warning can be ignored when running in bare mode.\n",
      "2025-04-13 09:01:05.443 Thread 'MainThread': missing ScriptRunContext! This warning can be ignored when running in bare mode.\n",
      "2025-04-13 09:01:05.449 Thread 'MainThread': missing ScriptRunContext! This warning can be ignored when running in bare mode.\n",
      "2025-04-13 09:01:05.451 Thread 'MainThread': missing ScriptRunContext! This warning can be ignored when running in bare mode.\n"
     ]
    }
   ],
   "source": [
    "import streamlit as st  # This brings in the Streamlit module\n",
    "\n",
    "# Title on the page\n",
    "st.title(\"Rocket Launch Calculator\")\n",
    "\n",
    "# User inputs\n",
    "mass = st.number_input(\"Enter rocket mass (kg)\", value=500)\n",
    "thrust = st.number_input(\"Enter thrust (N)\", value=10000)\n",
    "burn_time = st.number_input(\"Enter burn time (seconds)\", value=5)\n",
    "\n",
    "# Earth's gravity (constant)\n",
    "gravity = 9.81\n",
    "\n",
    "# Calculate when user clicks button\n",
    "if st.button(\"Calculate\"):\n",
    "    # Physics calculations\n",
    "    acceleration = (thrust - mass * gravity) / mass\n",
    "    final_velocity = acceleration * burn_time\n",
    "    height = 0.5 * acceleration * (burn_time ** 2)\n",
    "\n",
    "    # Show results\n",
    "    st.write(f\"Acceleration: {acceleration:.2f} m/s²\")\n",
    "    st.write(f\"Final Velocity: {final_velocity:.2f} m/s\")\n",
    "    st.write(f\"Estimated Height Reached: {height:.2f} m\")\n"
   ]
  }
 ],
 "metadata": {
  "kernelspec": {
   "display_name": "Python 3",
   "language": "python",
   "name": "python3"
  },
  "language_info": {
   "codemirror_mode": {
    "name": "ipython",
    "version": 3
   },
   "file_extension": ".py",
   "mimetype": "text/x-python",
   "name": "python",
   "nbconvert_exporter": "python",
   "pygments_lexer": "ipython3",
   "version": "3.13.2"
  }
 },
 "nbformat": 4,
 "nbformat_minor": 5
}
